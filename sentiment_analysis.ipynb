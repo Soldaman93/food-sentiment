{
 "cells": [
  {
   "attachments": {},
   "cell_type": "markdown",
   "metadata": {},
   "source": [
    "# Sentiment analysis\n",
    "\n",
    "In this notebook we perform sentiment analysis on the preprocessed Food.com dataset using a variety of NLP models."
   ]
  },
  {
   "cell_type": "code",
   "execution_count": 1,
   "metadata": {},
   "outputs": [],
   "source": [
    "import pandas as pd\n",
    "import numpy as np\n",
    "import matplotlib.pyplot as plt\n",
    "from textblob import TextBlob"
   ]
  },
  {
   "cell_type": "code",
   "execution_count": 2,
   "metadata": {},
   "outputs": [],
   "source": [
    "pd.set_option('display.max_colwidth',None)\n",
    "pd.set_option('display.float_format',lambda x: '%.2f' % x)"
   ]
  },
  {
   "cell_type": "code",
   "execution_count": 3,
   "metadata": {},
   "outputs": [],
   "source": [
    "df_full = pd.read_pickle('preprocessed_dataset.pkl')"
   ]
  },
  {
   "cell_type": "code",
   "execution_count": 4,
   "metadata": {},
   "outputs": [
    {
     "name": "stdout",
     "output_type": "stream",
     "text": [
      "<class 'pandas.core.frame.DataFrame'>\n",
      "Int64Index: 1132367 entries, 0 to 1132366\n",
      "Data columns (total 17 columns):\n",
      " #   Column             Non-Null Count    Dtype         \n",
      "---  ------             --------------    -----         \n",
      " 0   user_id            1132367 non-null  int64         \n",
      " 1   recipe_id          1132367 non-null  int64         \n",
      " 2   date               1132367 non-null  datetime64[ns]\n",
      " 3   rating             1132367 non-null  int64         \n",
      " 4   minutes            1132367 non-null  int64         \n",
      " 5   contributor_id     1132367 non-null  int64         \n",
      " 6   submitted          1132367 non-null  datetime64[ns]\n",
      " 7   nutrition          1132367 non-null  object        \n",
      " 8   n_steps            1132367 non-null  int64         \n",
      " 9   n_ingredients      1132367 non-null  int64         \n",
      " 10  plain_review       1132367 non-null  object        \n",
      " 11  plain_tags         1132367 non-null  object        \n",
      " 12  plain_name         1132367 non-null  object        \n",
      " 13  plain_description  1132367 non-null  object        \n",
      " 14  plain_ingredients  1132367 non-null  object        \n",
      " 15  review             1119688 non-null  object        \n",
      " 16  nostop_review      1119854 non-null  object        \n",
      "dtypes: datetime64[ns](2), int64(7), object(8)\n",
      "memory usage: 155.5+ MB\n"
     ]
    }
   ],
   "source": [
    "df_full.info()"
   ]
  },
  {
   "cell_type": "code",
   "execution_count": 5,
   "metadata": {},
   "outputs": [
    {
     "data": {
      "text/html": [
       "<div>\n",
       "<style scoped>\n",
       "    .dataframe tbody tr th:only-of-type {\n",
       "        vertical-align: middle;\n",
       "    }\n",
       "\n",
       "    .dataframe tbody tr th {\n",
       "        vertical-align: top;\n",
       "    }\n",
       "\n",
       "    .dataframe thead th {\n",
       "        text-align: right;\n",
       "    }\n",
       "</style>\n",
       "<table border=\"1\" class=\"dataframe\">\n",
       "  <thead>\n",
       "    <tr style=\"text-align: right;\">\n",
       "      <th></th>\n",
       "      <th>user_id</th>\n",
       "      <th>recipe_id</th>\n",
       "      <th>date</th>\n",
       "      <th>rating</th>\n",
       "      <th>minutes</th>\n",
       "      <th>contributor_id</th>\n",
       "      <th>submitted</th>\n",
       "      <th>nutrition</th>\n",
       "      <th>n_steps</th>\n",
       "      <th>n_ingredients</th>\n",
       "      <th>plain_review</th>\n",
       "      <th>plain_tags</th>\n",
       "      <th>plain_name</th>\n",
       "      <th>plain_description</th>\n",
       "      <th>plain_ingredients</th>\n",
       "      <th>review</th>\n",
       "      <th>nostop_review</th>\n",
       "    </tr>\n",
       "  </thead>\n",
       "  <tbody>\n",
       "    <tr>\n",
       "      <th>0</th>\n",
       "      <td>38094</td>\n",
       "      <td>40893</td>\n",
       "      <td>2003-02-17</td>\n",
       "      <td>4</td>\n",
       "      <td>495</td>\n",
       "      <td>1533</td>\n",
       "      <td>2002-09-21</td>\n",
       "      <td>[204.8, 5.0, 9.0, 26.0, 24.0, 2.0, 10.0]</td>\n",
       "      <td>4</td>\n",
       "      <td>9</td>\n",
       "      <td>[great, salad, cooked, top, stove, 15, minutesadded, shake, cayenne, pinch, salt, used, low, fat, sour, cream, thanks]</td>\n",
       "      <td>[weeknight, time-to-make, course, main-ingredient, preparation, occasion, soups-stews, beans, vegetables, easy, crock-pot-slow-cooker, dietary, equipment]</td>\n",
       "      <td>[white, bean, green, chile, pepper, soup]</td>\n",
       "      <td>[easy, soup, crockpot]</td>\n",
       "      <td>[great, northern, beans, yellow, onion, diced, green, chilies, ground, cumin, garlic, powder, fat-free, chicken, broth, fresh, cilantro, leaves, extra, virgin, olive, oil, sour, cream]</td>\n",
       "      <td>Great with a salad. Cooked on top of stove for 15 minutes.Added a shake of cayenne and a pinch of salt.  Used low fat sour cream.  Thanks.</td>\n",
       "      <td>great salad. cooked top stove 15 minutes.added shake cayenne pinch salt. used low fat sour cream. thanks.</td>\n",
       "    </tr>\n",
       "    <tr>\n",
       "      <th>1</th>\n",
       "      <td>1293707</td>\n",
       "      <td>40893</td>\n",
       "      <td>2011-12-21</td>\n",
       "      <td>5</td>\n",
       "      <td>495</td>\n",
       "      <td>1533</td>\n",
       "      <td>2002-09-21</td>\n",
       "      <td>[204.8, 5.0, 9.0, 26.0, 24.0, 2.0, 10.0]</td>\n",
       "      <td>4</td>\n",
       "      <td>9</td>\n",
       "      <td>[simple, delicious, great, chilly, fall, evening, doubled, &lt;br/&gt;&lt;br/&gt;second, time, around, forgot, remaining, cumin, usually, love, cumin, didn't, notice, missing, 1/2, teaspoon]</td>\n",
       "      <td>[weeknight, time-to-make, course, main-ingredient, preparation, occasion, soups-stews, beans, vegetables, easy, crock-pot-slow-cooker, dietary, equipment]</td>\n",
       "      <td>[white, bean, green, chile, pepper, soup]</td>\n",
       "      <td>[easy, soup, crockpot]</td>\n",
       "      <td>[great, northern, beans, yellow, onion, diced, green, chilies, ground, cumin, garlic, powder, fat-free, chicken, broth, fresh, cilantro, leaves, extra, virgin, olive, oil, sour, cream]</td>\n",
       "      <td>So simple, so delicious! Great for chilly fall evening. Should have doubled it ;)&lt;br/&gt;&lt;br/&gt;Second time around, forgot the remaining cumin. We usually love cumin, but didn't notice the missing 1/2 teaspoon!</td>\n",
       "      <td>simple, delicious! great chilly fall evening. doubled ;)&lt;br/&gt;&lt;br/&gt;second time around, forgot remaining cumin. usually love cumin, didn't notice missing 1/2 teaspoon!</td>\n",
       "    </tr>\n",
       "    <tr>\n",
       "      <th>2</th>\n",
       "      <td>8937</td>\n",
       "      <td>44394</td>\n",
       "      <td>2002-12-01</td>\n",
       "      <td>4</td>\n",
       "      <td>20</td>\n",
       "      <td>56824</td>\n",
       "      <td>2002-10-27</td>\n",
       "      <td>[132.3, 11.0, 39.0, 5.0, 4.0, 11.0, 5.0]</td>\n",
       "      <td>5</td>\n",
       "      <td>4</td>\n",
       "      <td>[worked, well, easy, used, quite, whole, package, 10oz, white, chips, great]</td>\n",
       "      <td>[30-minutes-or-less, time-to-make, course, main-ingredient, preparation, occasion, for-large-groups, 5-ingredients-or-less, drop-cookies, desserts, lunch, oven, easy, potluck, fall, finger-food, heirloom-historical, holiday-event, kid-friendly, picnic, spring, summer, winter, cakes, cookies-and-brownies, easter, chocolate, dietary, gifts, christmas, hanukkah, new-years, seasonal, comfort-food, independence-day, ramadan, rosh-hashana, valentines-day, taste-mood, to-go, equipment, number-of-servings, presentation]</td>\n",
       "      <td>[devilicious, cookie, cake, delights]</td>\n",
       "      <td>[nan]</td>\n",
       "      <td>[\"devils, food, cake, mix\", vegetable, oil, eggs, \"reeses, pieces\"]</td>\n",
       "      <td>This worked very well and is EASY.  I used not quite a whole package (10oz) of white chips.  Great!</td>\n",
       "      <td>worked well easy. used quite whole package (10oz) white chips. great!</td>\n",
       "    </tr>\n",
       "    <tr>\n",
       "      <th>3</th>\n",
       "      <td>126440</td>\n",
       "      <td>85009</td>\n",
       "      <td>2010-02-27</td>\n",
       "      <td>5</td>\n",
       "      <td>10</td>\n",
       "      <td>64342</td>\n",
       "      <td>2004-02-25</td>\n",
       "      <td>[2786.2, 342.0, 134.0, 290.0, 161.0, 301.0, 42.0]</td>\n",
       "      <td>3</td>\n",
       "      <td>13</td>\n",
       "      <td>[made, mexican, topping, took, bunko, everyone, loved, it]</td>\n",
       "      <td>[15-minutes-or-less, time-to-make, course, main-ingredient, preparation, condiments-etc, vegetables, easy, inexpensive, number-of-servings, 3-steps-or-less]</td>\n",
       "      <td>[baked, potato, toppings]</td>\n",
       "      <td>[toppings, sure, makes, nice, change, plain, old, sour, cream, bacon, bitsyou, use, regular, light, fat, free, calorie, reduced, mayonnaise]</td>\n",
       "      <td>[mayonnaise, salsa, cheddar, cheese, refried, beans, ham, green, pepper, tomatoes, cooked, bacon, pepperoni, mozzarella, cheese, parmesan, cheese, pizza, sauce, frozen, chopped, broccoli]</td>\n",
       "      <td>I made the Mexican topping and took it to bunko.  Everyone loved it.</td>\n",
       "      <td>made mexican topping took bunko. everyone loved it.</td>\n",
       "    </tr>\n",
       "    <tr>\n",
       "      <th>4</th>\n",
       "      <td>57222</td>\n",
       "      <td>85009</td>\n",
       "      <td>2011-10-01</td>\n",
       "      <td>5</td>\n",
       "      <td>10</td>\n",
       "      <td>64342</td>\n",
       "      <td>2004-02-25</td>\n",
       "      <td>[2786.2, 342.0, 134.0, 290.0, 161.0, 301.0, 42.0]</td>\n",
       "      <td>3</td>\n",
       "      <td>13</td>\n",
       "      <td>[made, cheddar, bacon, topping, adding, sprinkling, black, pepper, yum]</td>\n",
       "      <td>[15-minutes-or-less, time-to-make, course, main-ingredient, preparation, condiments-etc, vegetables, easy, inexpensive, number-of-servings, 3-steps-or-less]</td>\n",
       "      <td>[baked, potato, toppings]</td>\n",
       "      <td>[toppings, sure, makes, nice, change, plain, old, sour, cream, bacon, bitsyou, use, regular, light, fat, free, calorie, reduced, mayonnaise]</td>\n",
       "      <td>[mayonnaise, salsa, cheddar, cheese, refried, beans, ham, green, pepper, tomatoes, cooked, bacon, pepperoni, mozzarella, cheese, parmesan, cheese, pizza, sauce, frozen, chopped, broccoli]</td>\n",
       "      <td>Made the cheddar bacon topping, adding a sprinkling of black pepper. Yum!</td>\n",
       "      <td>made cheddar bacon topping, adding sprinkling black pepper. yum!</td>\n",
       "    </tr>\n",
       "  </tbody>\n",
       "</table>\n",
       "</div>"
      ],
      "text/plain": [
       "   user_id  recipe_id       date  rating  minutes  contributor_id  submitted  \\\n",
       "0    38094      40893 2003-02-17       4      495            1533 2002-09-21   \n",
       "1  1293707      40893 2011-12-21       5      495            1533 2002-09-21   \n",
       "2     8937      44394 2002-12-01       4       20           56824 2002-10-27   \n",
       "3   126440      85009 2010-02-27       5       10           64342 2004-02-25   \n",
       "4    57222      85009 2011-10-01       5       10           64342 2004-02-25   \n",
       "\n",
       "                                           nutrition  n_steps  n_ingredients  \\\n",
       "0           [204.8, 5.0, 9.0, 26.0, 24.0, 2.0, 10.0]        4              9   \n",
       "1           [204.8, 5.0, 9.0, 26.0, 24.0, 2.0, 10.0]        4              9   \n",
       "2           [132.3, 11.0, 39.0, 5.0, 4.0, 11.0, 5.0]        5              4   \n",
       "3  [2786.2, 342.0, 134.0, 290.0, 161.0, 301.0, 42.0]        3             13   \n",
       "4  [2786.2, 342.0, 134.0, 290.0, 161.0, 301.0, 42.0]        3             13   \n",
       "\n",
       "                                                                                                                                                                         plain_review  \\\n",
       "0                                                              [great, salad, cooked, top, stove, 15, minutesadded, shake, cayenne, pinch, salt, used, low, fat, sour, cream, thanks]   \n",
       "1  [simple, delicious, great, chilly, fall, evening, doubled, <br/><br/>second, time, around, forgot, remaining, cumin, usually, love, cumin, didn't, notice, missing, 1/2, teaspoon]   \n",
       "2                                                                                                        [worked, well, easy, used, quite, whole, package, 10oz, white, chips, great]   \n",
       "3                                                                                                                          [made, mexican, topping, took, bunko, everyone, loved, it]   \n",
       "4                                                                                                             [made, cheddar, bacon, topping, adding, sprinkling, black, pepper, yum]   \n",
       "\n",
       "                                                                                                                                                                                                                                                                                                                                                                                                                                                                                                                              plain_tags  \\\n",
       "0                                                                                                                                                                                                                                                                                                                                                                             [weeknight, time-to-make, course, main-ingredient, preparation, occasion, soups-stews, beans, vegetables, easy, crock-pot-slow-cooker, dietary, equipment]   \n",
       "1                                                                                                                                                                                                                                                                                                                                                                             [weeknight, time-to-make, course, main-ingredient, preparation, occasion, soups-stews, beans, vegetables, easy, crock-pot-slow-cooker, dietary, equipment]   \n",
       "2  [30-minutes-or-less, time-to-make, course, main-ingredient, preparation, occasion, for-large-groups, 5-ingredients-or-less, drop-cookies, desserts, lunch, oven, easy, potluck, fall, finger-food, heirloom-historical, holiday-event, kid-friendly, picnic, spring, summer, winter, cakes, cookies-and-brownies, easter, chocolate, dietary, gifts, christmas, hanukkah, new-years, seasonal, comfort-food, independence-day, ramadan, rosh-hashana, valentines-day, taste-mood, to-go, equipment, number-of-servings, presentation]   \n",
       "3                                                                                                                                                                                                                                                                                                                                                                           [15-minutes-or-less, time-to-make, course, main-ingredient, preparation, condiments-etc, vegetables, easy, inexpensive, number-of-servings, 3-steps-or-less]   \n",
       "4                                                                                                                                                                                                                                                                                                                                                                           [15-minutes-or-less, time-to-make, course, main-ingredient, preparation, condiments-etc, vegetables, easy, inexpensive, number-of-servings, 3-steps-or-less]   \n",
       "\n",
       "                                  plain_name  \\\n",
       "0  [white, bean, green, chile, pepper, soup]   \n",
       "1  [white, bean, green, chile, pepper, soup]   \n",
       "2      [devilicious, cookie, cake, delights]   \n",
       "3                  [baked, potato, toppings]   \n",
       "4                  [baked, potato, toppings]   \n",
       "\n",
       "                                                                                                                              plain_description  \\\n",
       "0                                                                                                                        [easy, soup, crockpot]   \n",
       "1                                                                                                                        [easy, soup, crockpot]   \n",
       "2                                                                                                                                         [nan]   \n",
       "3  [toppings, sure, makes, nice, change, plain, old, sour, cream, bacon, bitsyou, use, regular, light, fat, free, calorie, reduced, mayonnaise]   \n",
       "4  [toppings, sure, makes, nice, change, plain, old, sour, cream, bacon, bitsyou, use, regular, light, fat, free, calorie, reduced, mayonnaise]   \n",
       "\n",
       "                                                                                                                                                                             plain_ingredients  \\\n",
       "0     [great, northern, beans, yellow, onion, diced, green, chilies, ground, cumin, garlic, powder, fat-free, chicken, broth, fresh, cilantro, leaves, extra, virgin, olive, oil, sour, cream]   \n",
       "1     [great, northern, beans, yellow, onion, diced, green, chilies, ground, cumin, garlic, powder, fat-free, chicken, broth, fresh, cilantro, leaves, extra, virgin, olive, oil, sour, cream]   \n",
       "2                                                                                                                          [\"devils, food, cake, mix\", vegetable, oil, eggs, \"reeses, pieces\"]   \n",
       "3  [mayonnaise, salsa, cheddar, cheese, refried, beans, ham, green, pepper, tomatoes, cooked, bacon, pepperoni, mozzarella, cheese, parmesan, cheese, pizza, sauce, frozen, chopped, broccoli]   \n",
       "4  [mayonnaise, salsa, cheddar, cheese, refried, beans, ham, green, pepper, tomatoes, cooked, bacon, pepperoni, mozzarella, cheese, parmesan, cheese, pizza, sauce, frozen, chopped, broccoli]   \n",
       "\n",
       "                                                                                                                                                                                                          review  \\\n",
       "0                                                                     Great with a salad. Cooked on top of stove for 15 minutes.Added a shake of cayenne and a pinch of salt.  Used low fat sour cream.  Thanks.   \n",
       "1  So simple, so delicious! Great for chilly fall evening. Should have doubled it ;)<br/><br/>Second time around, forgot the remaining cumin. We usually love cumin, but didn't notice the missing 1/2 teaspoon!   \n",
       "2                                                                                                            This worked very well and is EASY.  I used not quite a whole package (10oz) of white chips.  Great!   \n",
       "3                                                                                                                                           I made the Mexican topping and took it to bunko.  Everyone loved it.   \n",
       "4                                                                                                                                      Made the cheddar bacon topping, adding a sprinkling of black pepper. Yum!   \n",
       "\n",
       "                                                                                                                                                           nostop_review  \n",
       "0                                                              great salad. cooked top stove 15 minutes.added shake cayenne pinch salt. used low fat sour cream. thanks.  \n",
       "1  simple, delicious! great chilly fall evening. doubled ;)<br/><br/>second time around, forgot remaining cumin. usually love cumin, didn't notice missing 1/2 teaspoon!  \n",
       "2                                                                                                  worked well easy. used quite whole package (10oz) white chips. great!  \n",
       "3                                                                                                                    made mexican topping took bunko. everyone loved it.  \n",
       "4                                                                                                       made cheddar bacon topping, adding sprinkling black pepper. yum!  "
      ]
     },
     "execution_count": 5,
     "metadata": {},
     "output_type": "execute_result"
    }
   ],
   "source": [
    "df_full.head()"
   ]
  },
  {
   "attachments": {},
   "cell_type": "markdown",
   "metadata": {},
   "source": [
    "Let's try one simple model called TextBlob, which is a lexicon-based sentiment analyser. This means that it assigns a score (positive, towards +1, for more positive texts; negative, towards -1, for more negative texts; 0 for neutral texts) to individual words in the text and then combines them into an overall score. We perform the analysis using both the complete reviews and the reviews without stopwords."
   ]
  },
  {
   "cell_type": "code",
   "execution_count": 10,
   "metadata": {},
   "outputs": [],
   "source": [
    "df_full['sentiment_1'] = df_full.review.astype(str).apply(lambda text: TextBlob(text).sentiment[0])"
   ]
  },
  {
   "cell_type": "code",
   "execution_count": 11,
   "metadata": {},
   "outputs": [],
   "source": [
    "df_full['sentiment_2'] = df_full.nostop_review.astype(str).apply(lambda text: TextBlob(text).sentiment[0])"
   ]
  },
  {
   "attachments": {},
   "cell_type": "markdown",
   "metadata": {},
   "source": [
    "As we see in the following, the results of TextBlob on the two different formats of reviews are generally fairly similar. However, we clearly see that some results are off (e.g., the rwviews with id equal to 7, 10, 11). This is maybe related to the fact that just the presence of certain words in the text can greatly impact the result of the model, because it does not take into consideration the relation between adjacent words, which in turn can greatly affect their meaning. "
   ]
  },
  {
   "cell_type": "code",
   "execution_count": 10,
   "metadata": {},
   "outputs": [
    {
     "data": {
      "text/html": [
       "<div>\n",
       "<style scoped>\n",
       "    .dataframe tbody tr th:only-of-type {\n",
       "        vertical-align: middle;\n",
       "    }\n",
       "\n",
       "    .dataframe tbody tr th {\n",
       "        vertical-align: top;\n",
       "    }\n",
       "\n",
       "    .dataframe thead th {\n",
       "        text-align: right;\n",
       "    }\n",
       "</style>\n",
       "<table border=\"1\" class=\"dataframe\">\n",
       "  <thead>\n",
       "    <tr style=\"text-align: right;\">\n",
       "      <th></th>\n",
       "      <th>review</th>\n",
       "      <th>sentiment_1</th>\n",
       "      <th>sentiment_2</th>\n",
       "    </tr>\n",
       "  </thead>\n",
       "  <tbody>\n",
       "    <tr>\n",
       "      <th>0</th>\n",
       "      <td>Great with a salad. Cooked on top of stove for 15 minutes.Added a shake of cayenne and a pinch of salt.  Used low fat sour cream.  Thanks.</td>\n",
       "      <td>0.27</td>\n",
       "      <td>0.27</td>\n",
       "    </tr>\n",
       "    <tr>\n",
       "      <th>1</th>\n",
       "      <td>So simple, so delicious! Great for chilly fall evening. Should have doubled it ;)&lt;br/&gt;&lt;br/&gt;Second time around, forgot the remaining cumin. We usually love cumin, but didn't notice the missing 1/2 teaspoon!</td>\n",
       "      <td>0.24</td>\n",
       "      <td>0.24</td>\n",
       "    </tr>\n",
       "    <tr>\n",
       "      <th>2</th>\n",
       "      <td>This worked very well and is EASY.  I used not quite a whole package (10oz) of white chips.  Great!</td>\n",
       "      <td>0.37</td>\n",
       "      <td>0.41</td>\n",
       "    </tr>\n",
       "    <tr>\n",
       "      <th>3</th>\n",
       "      <td>I made the Mexican topping and took it to bunko.  Everyone loved it.</td>\n",
       "      <td>0.35</td>\n",
       "      <td>0.35</td>\n",
       "    </tr>\n",
       "    <tr>\n",
       "      <th>4</th>\n",
       "      <td>Made the cheddar bacon topping, adding a sprinkling of black pepper. Yum!</td>\n",
       "      <td>-0.21</td>\n",
       "      <td>-0.21</td>\n",
       "    </tr>\n",
       "    <tr>\n",
       "      <th>5</th>\n",
       "      <td>very very sweet. after i waited the 2 days i bought 2 more pints of raspberries and added them to the mix. i'm going to add some as a cake filling today and will take a photo.</td>\n",
       "      <td>0.48</td>\n",
       "      <td>0.35</td>\n",
       "    </tr>\n",
       "    <tr>\n",
       "      <th>6</th>\n",
       "      <td>Just an observation, so I will not rate.  I followed this procedure with strawberries instead of raspberries.  Perhaps this is the reason it did not work well.  Sorry to report that the strawberries I did in August were moldy in October.  They were stored in my downstairs fridge, which is very cold and infrequently opened.  Delicious and fresh-tasting prior to that, though.  So, keep a sharp eye on them.  Personally I would not keep them longer than a month.  This recipe also appears as #120345 posted in July 2009, which is when I tried it.  I also own the Edna Lewis cookbook in which this appears.</td>\n",
       "      <td>0.03</td>\n",
       "      <td>-0.04</td>\n",
       "    </tr>\n",
       "    <tr>\n",
       "      <th>7</th>\n",
       "      <td>This recipe was OVERLY too sweet.  I would start out with 1/3 or 1/4 cup of sugar and jsut add on from there.  Just 2 cups was way too much and I had to go back to the grocery store to buy more raspberries because it made so much mix.  Overall, I would but the long narrow box or raspberries.  Its a perfect fit for the recipe plus a little extra.  I was not impressed with this recipe.  It was exceptionally over-sweet.  If you make this simple recipe, MAKE SURE TO ADD LESS SUGAR!</td>\n",
       "      <td>0.16</td>\n",
       "      <td>0.23</td>\n",
       "    </tr>\n",
       "    <tr>\n",
       "      <th>8</th>\n",
       "      <td>Very good!</td>\n",
       "      <td>1.00</td>\n",
       "      <td>0.88</td>\n",
       "    </tr>\n",
       "    <tr>\n",
       "      <th>9</th>\n",
       "      <td>Better than the real!!</td>\n",
       "      <td>0.41</td>\n",
       "      <td>0.41</td>\n",
       "    </tr>\n",
       "    <tr>\n",
       "      <th>10</th>\n",
       "      <td>Absolutely AWESOME! I was speechless when I tried them. I've never had such juicy melt-in-your-mouth chicken made AT HOME!\\n\\nI would, however, suggest to reduce the amount of flour. 2 cups was overkill for me.</td>\n",
       "      <td>0.08</td>\n",
       "      <td>0.12</td>\n",
       "    </tr>\n",
       "    <tr>\n",
       "      <th>11</th>\n",
       "      <td>These taste absolutely wonderful!!  My son-in-law loves them and requests them often! I followed the recipe exactly.  Thanks so much for posting this recipe.</td>\n",
       "      <td>0.47</td>\n",
       "      <td>0.47</td>\n",
       "    </tr>\n",
       "    <tr>\n",
       "      <th>12</th>\n",
       "      <td>Made my own buttermilk w/ vinegar and milk.  Used defrosted fresh skinless/boneless chicken fillets.  3 lbs.\\r\\nThis mix is extremely flavorful and its light .  I didnt do the bbq thing, but while I cooked homemade to go w/ this I put the chicken in the oven to keep warm and served bbq dipping sauce.  10 stars from my kids !</td>\n",
       "      <td>0.10</td>\n",
       "      <td>0.02</td>\n",
       "    </tr>\n",
       "    <tr>\n",
       "      <th>13</th>\n",
       "      <td>First time using liquid smoke in a recipe. Made this as directed. My kids enjoyed this, so we will make this again. Thank you for posting.</td>\n",
       "      <td>0.38</td>\n",
       "      <td>0.38</td>\n",
       "    </tr>\n",
       "    <tr>\n",
       "      <th>14</th>\n",
       "      <td>MMMMM! This is so good! I actually soaked the chicken in chicken bouillon first, and it made it super flavorful. I use Sweet Baby Ray's bbq sauce (DH's favorite), and cut chicken into nuggets instead of strips. This makes a good amount, so you could really freeze some and reheat in oven later. Those were our plans, but it was so good that it didn't make it to the ziploc bag!</td>\n",
       "      <td>0.18</td>\n",
       "      <td>0.18</td>\n",
       "    </tr>\n",
       "    <tr>\n",
       "      <th>15</th>\n",
       "      <td>I used this mix to make meat balls.Very simple to put together.  I made a batch to put in the freezer too. I find meatballs are really handy to have around just add sauce and cheese for pasta meal or appetizer or for subs or snack.  These turned out to be very good I did add some garlic, but other than that I followed the recipe. The cinnamon in this added something to this that sets it apart from most meatball recipes I tried. Thanks for posting.</td>\n",
       "      <td>0.35</td>\n",
       "      <td>0.37</td>\n",
       "    </tr>\n",
       "    <tr>\n",
       "      <th>16</th>\n",
       "      <td>We really enjoyed this and so did both my young daughters. For this recipe I decided my crockpot would be perfect. I basically followed the recipe exactally except instead of adding the flour to the onions, I made a mix of flour, salt and pepper in a bag and then tossed the lamb to coat before browning. I added the spices to the onion/garlic to toast them slightly before deglazing with stock. Because I used the crockpot I cut the stock back to about 1/2 - 3/4 cup and used all the canned tomatoes. I added the canned chickpeas about an hour before serving.  This ended up cooking in the crockpot on low for about 6-7 hours. Served with Recipe #96875 this is a fabulous, filling family meal. Thank you for posting.</td>\n",
       "      <td>0.26</td>\n",
       "      <td>0.26</td>\n",
       "    </tr>\n",
       "    <tr>\n",
       "      <th>17</th>\n",
       "      <td>this is an excellent got 'lamb and a tin of chickpeas what should I cook' recipe. I used our slow cooker too. I made it for 4-5 people ( so 680grms lamb).I followed the recipe but used a can of tomatoes and alittle stock ( maybe 1/4 cup) and transfered the simmered tomatoes to the lamb waiting in the slow cooker. On low for about 5-6 hrs perfect!</td>\n",
       "      <td>0.28</td>\n",
       "      <td>0.28</td>\n",
       "    </tr>\n",
       "    <tr>\n",
       "      <th>18</th>\n",
       "      <td>This was a lovely Morrocan style dish. I halved the recipe and made it on the stove top like a stew. I added a bit more stock to keep it from drying out. I left off the parsley and/or cilantro, didn't have any. Served with some warm pita type flat breads. I have a VERY picky Husband that even enjoyed this dish.</td>\n",
       "      <td>0.35</td>\n",
       "      <td>0.35</td>\n",
       "    </tr>\n",
       "    <tr>\n",
       "      <th>19</th>\n",
       "      <td>I love lamb stew and usually make an Irish version with potatoes, celery, carrots, onions or something close.  Now and then I&amp;#039;m looking for a change of pace.  Using this recipe as a basis this turned out a really tasty and healthy lamb stew.   I plan to alternate this with the Irish style.  Mmm.  \\n\\nI used the canned tomatoes, chickpeas, onion, garlic, also a little celery, a jalapeno pepper, and diced-up carrot and malanga root.  Used cumin, cinnamon, ginger, rosemary,  and cloves as well as salt and pepper.  Nice peppy flavor.\\n\\nLooks great as well, if I get the camera working hope to send a picture.</td>\n",
       "      <td>0.22</td>\n",
       "      <td>0.22</td>\n",
       "    </tr>\n",
       "  </tbody>\n",
       "</table>\n",
       "</div>"
      ],
      "text/plain": [
       "                                                                                                                                                                                                                                                                                                                                                                                                                                                                                                                                                                                                                                                                                                                                           review  \\\n",
       "0                                                                                                                                                                                                                                                                                                                                                                                                                                                                                                                                                                                                      Great with a salad. Cooked on top of stove for 15 minutes.Added a shake of cayenne and a pinch of salt.  Used low fat sour cream.  Thanks.   \n",
       "1                                                                                                                                                                                                                                                                                                                                                                                                                                                                                                                                   So simple, so delicious! Great for chilly fall evening. Should have doubled it ;)<br/><br/>Second time around, forgot the remaining cumin. We usually love cumin, but didn't notice the missing 1/2 teaspoon!   \n",
       "2                                                                                                                                                                                                                                                                                                                                                                                                                                                                                                                                                                                                                                             This worked very well and is EASY.  I used not quite a whole package (10oz) of white chips.  Great!   \n",
       "3                                                                                                                                                                                                                                                                                                                                                                                                                                                                                                                                                                                                                                                                            I made the Mexican topping and took it to bunko.  Everyone loved it.   \n",
       "4                                                                                                                                                                                                                                                                                                                                                                                                                                                                                                                                                                                                                                                                       Made the cheddar bacon topping, adding a sprinkling of black pepper. Yum!   \n",
       "5                                                                                                                                                                                                                                                                                                                                                                                                                                                                                                                                                                 very very sweet. after i waited the 2 days i bought 2 more pints of raspberries and added them to the mix. i'm going to add some as a cake filling today and will take a photo.   \n",
       "6                                                                                                                   Just an observation, so I will not rate.  I followed this procedure with strawberries instead of raspberries.  Perhaps this is the reason it did not work well.  Sorry to report that the strawberries I did in August were moldy in October.  They were stored in my downstairs fridge, which is very cold and infrequently opened.  Delicious and fresh-tasting prior to that, though.  So, keep a sharp eye on them.  Personally I would not keep them longer than a month.  This recipe also appears as #120345 posted in July 2009, which is when I tried it.  I also own the Edna Lewis cookbook in which this appears.   \n",
       "7                                                                                                                                                                                                                                              This recipe was OVERLY too sweet.  I would start out with 1/3 or 1/4 cup of sugar and jsut add on from there.  Just 2 cups was way too much and I had to go back to the grocery store to buy more raspberries because it made so much mix.  Overall, I would but the long narrow box or raspberries.  Its a perfect fit for the recipe plus a little extra.  I was not impressed with this recipe.  It was exceptionally over-sweet.  If you make this simple recipe, MAKE SURE TO ADD LESS SUGAR!   \n",
       "8                                                                                                                                                                                                                                                                                                                                                                                                                                                                                                                                                                                                                                                                                                                                      Very good!   \n",
       "9                                                                                                                                                                                                                                                                                                                                                                                                                                                                                                                                                                                                                                                                                                                          Better than the real!!   \n",
       "10                                                                                                                                                                                                                                                                                                                                                                                                                                                                                                                            Absolutely AWESOME! I was speechless when I tried them. I've never had such juicy melt-in-your-mouth chicken made AT HOME!\\n\\nI would, however, suggest to reduce the amount of flour. 2 cups was overkill for me.    \n",
       "11                                                                                                                                                                                                                                                                                                                                                                                                                                                                                                                                                                                  These taste absolutely wonderful!!  My son-in-law loves them and requests them often! I followed the recipe exactly.  Thanks so much for posting this recipe.   \n",
       "12                                                                                                                                                                                                                                                                                                                                                                                                         Made my own buttermilk w/ vinegar and milk.  Used defrosted fresh skinless/boneless chicken fillets.  3 lbs.\\r\\nThis mix is extremely flavorful and its light .  I didnt do the bbq thing, but while I cooked homemade to go w/ this I put the chicken in the oven to keep warm and served bbq dipping sauce.  10 stars from my kids !   \n",
       "13                                                                                                                                                                                                                                                                                                                                                                                                                                                                                                                                                                                                     First time using liquid smoke in a recipe. Made this as directed. My kids enjoyed this, so we will make this again. Thank you for posting.   \n",
       "14                                                                                                                                                                                                                                                                                                                                                      MMMMM! This is so good! I actually soaked the chicken in chicken bouillon first, and it made it super flavorful. I use Sweet Baby Ray's bbq sauce (DH's favorite), and cut chicken into nuggets instead of strips. This makes a good amount, so you could really freeze some and reheat in oven later. Those were our plans, but it was so good that it didn't make it to the ziploc bag!   \n",
       "15                                                                                                                                                                                                                                                                            I used this mix to make meat balls.Very simple to put together.  I made a batch to put in the freezer too. I find meatballs are really handy to have around just add sauce and cheese for pasta meal or appetizer or for subs or snack.  These turned out to be very good I did add some garlic, but other than that I followed the recipe. The cinnamon in this added something to this that sets it apart from most meatball recipes I tried. Thanks for posting.   \n",
       "16  We really enjoyed this and so did both my young daughters. For this recipe I decided my crockpot would be perfect. I basically followed the recipe exactally except instead of adding the flour to the onions, I made a mix of flour, salt and pepper in a bag and then tossed the lamb to coat before browning. I added the spices to the onion/garlic to toast them slightly before deglazing with stock. Because I used the crockpot I cut the stock back to about 1/2 - 3/4 cup and used all the canned tomatoes. I added the canned chickpeas about an hour before serving.  This ended up cooking in the crockpot on low for about 6-7 hours. Served with Recipe #96875 this is a fabulous, filling family meal. Thank you for posting.   \n",
       "17                                                                                                                                                                                                                                                                                                                                                                                   this is an excellent got 'lamb and a tin of chickpeas what should I cook' recipe. I used our slow cooker too. I made it for 4-5 people ( so 680grms lamb).I followed the recipe but used a can of tomatoes and alittle stock ( maybe 1/4 cup) and transfered the simmered tomatoes to the lamb waiting in the slow cooker. On low for about 5-6 hrs perfect!   \n",
       "18                                                                                                                                                                                                                                                                                                                                                                                                                       This was a lovely Morrocan style dish. I halved the recipe and made it on the stove top like a stew. I added a bit more stock to keep it from drying out. I left off the parsley and/or cilantro, didn't have any. Served with some warm pita type flat breads. I have a VERY picky Husband that even enjoyed this dish.   \n",
       "19                                                                                                       I love lamb stew and usually make an Irish version with potatoes, celery, carrots, onions or something close.  Now and then I&#039;m looking for a change of pace.  Using this recipe as a basis this turned out a really tasty and healthy lamb stew.   I plan to alternate this with the Irish style.  Mmm.  \\n\\nI used the canned tomatoes, chickpeas, onion, garlic, also a little celery, a jalapeno pepper, and diced-up carrot and malanga root.  Used cumin, cinnamon, ginger, rosemary,  and cloves as well as salt and pepper.  Nice peppy flavor.\\n\\nLooks great as well, if I get the camera working hope to send a picture.   \n",
       "\n",
       "    sentiment_1  sentiment_2  \n",
       "0          0.27         0.27  \n",
       "1          0.24         0.24  \n",
       "2          0.37         0.41  \n",
       "3          0.35         0.35  \n",
       "4         -0.21        -0.21  \n",
       "5          0.48         0.35  \n",
       "6          0.03        -0.04  \n",
       "7          0.16         0.23  \n",
       "8          1.00         0.88  \n",
       "9          0.41         0.41  \n",
       "10         0.08         0.12  \n",
       "11         0.47         0.47  \n",
       "12         0.10         0.02  \n",
       "13         0.38         0.38  \n",
       "14         0.18         0.18  \n",
       "15         0.35         0.37  \n",
       "16         0.26         0.26  \n",
       "17         0.28         0.28  \n",
       "18         0.35         0.35  \n",
       "19         0.22         0.22  "
      ]
     },
     "execution_count": 10,
     "metadata": {},
     "output_type": "execute_result"
    }
   ],
   "source": [
    "df_full[['review','sentiment_1','sentiment_2']].head(20)"
   ]
  },
  {
   "attachments": {},
   "cell_type": "markdown",
   "metadata": {},
   "source": [
    "For this reason, we try more elaborate models, specifically those based on transformers, which represent the state of the art in NLP. Given than these models are extremely complex, we use some pre-trained models made available by Hugging Face: https://huggingface.co/models?language=en&library=tf&pipeline_tag=text-classification&sort=downloads&search=sentiment."
   ]
  },
  {
   "cell_type": "code",
   "execution_count": 19,
   "metadata": {},
   "outputs": [
    {
     "name": "stderr",
     "output_type": "stream",
     "text": [
      "No model was supplied, defaulted to distilbert-base-uncased-finetuned-sst-2-english and revision af0f99b (https://huggingface.co/distilbert-base-uncased-finetuned-sst-2-english).\n",
      "Using a pipeline without specifying a model name and revision in production is not recommended.\n",
      "Some layers from the model checkpoint at distilbert-base-uncased-finetuned-sst-2-english were not used when initializing TFDistilBertForSequenceClassification: ['dropout_19']\n",
      "- This IS expected if you are initializing TFDistilBertForSequenceClassification from the checkpoint of a model trained on another task or with another architecture (e.g. initializing a BertForSequenceClassification model from a BertForPreTraining model).\n",
      "- This IS NOT expected if you are initializing TFDistilBertForSequenceClassification from the checkpoint of a model that you expect to be exactly identical (initializing a BertForSequenceClassification model from a BertForSequenceClassification model).\n",
      "Some layers of TFDistilBertForSequenceClassification were not initialized from the model checkpoint at distilbert-base-uncased-finetuned-sst-2-english and are newly initialized: ['dropout_97']\n",
      "You should probably TRAIN this model on a down-stream task to be able to use it for predictions and inference.\n"
     ]
    }
   ],
   "source": [
    "from transformers import pipeline\n",
    "sentiment_pipeline = pipeline(\"sentiment-analysis\")\n",
    "#sentiment_pipeline = pipeline(model='finiteautomata/bertweet-base-sentiment-analysis')"
   ]
  },
  {
   "cell_type": "code",
   "execution_count": 20,
   "metadata": {},
   "outputs": [
    {
     "data": {
      "text/plain": [
       "[{'label': 'NEGATIVE', 'score': 0.9475618600845337}]"
      ]
     },
     "execution_count": 20,
     "metadata": {},
     "output_type": "execute_result"
    }
   ],
   "source": [
    "sentiment_pipeline(df_full.nostop_review[7])"
   ]
  },
  {
   "cell_type": "code",
   "execution_count": 24,
   "metadata": {},
   "outputs": [],
   "source": [
    "from tqdm import tqdm\n",
    "tqdm.pandas()"
   ]
  },
  {
   "attachments": {},
   "cell_type": "markdown",
   "metadata": {},
   "source": [
    "Since the transformer model is quite complex and the dataset contains a huge number of reviews, we can select a smaller subsample."
   ]
  },
  {
   "cell_type": "code",
   "execution_count": 26,
   "metadata": {},
   "outputs": [],
   "source": [
    "df_subset = df_full.sample(10000)"
   ]
  },
  {
   "cell_type": "code",
   "execution_count": 49,
   "metadata": {},
   "outputs": [
    {
     "name": "stderr",
     "output_type": "stream",
     "text": [
      "100%|██████████| 10000/10000 [30:03<00:00,  5.54it/s]\n"
     ]
    }
   ],
   "source": [
    "df_subset['sentiment_3'] = df_subset.review.astype(str).progress_apply(lambda text: sentiment_pipeline(text[:500]))"
   ]
  },
  {
   "cell_type": "code",
   "execution_count": 51,
   "metadata": {},
   "outputs": [],
   "source": [
    "df_subset.to_pickle('sentiment_dataset.pkl')"
   ]
  },
  {
   "cell_type": "code",
   "execution_count": null,
   "metadata": {},
   "outputs": [],
   "source": []
  }
 ],
 "metadata": {
  "kernelspec": {
   "display_name": "odc",
   "language": "python",
   "name": "python3"
  },
  "language_info": {
   "codemirror_mode": {
    "name": "ipython",
    "version": 3
   },
   "file_extension": ".py",
   "mimetype": "text/x-python",
   "name": "python",
   "nbconvert_exporter": "python",
   "pygments_lexer": "ipython3",
   "version": "3.8.12"
  },
  "orig_nbformat": 4,
  "vscode": {
   "interpreter": {
    "hash": "e784ef337b972bfca7b8e9e69fdcc34ef75360383f8fa51b7e03c929092227b8"
   }
  }
 },
 "nbformat": 4,
 "nbformat_minor": 2
}
